{
  "nbformat": 4,
  "nbformat_minor": 0,
  "metadata": {
    "colab": {
      "provenance": [],
      "toc_visible": true
    },
    "kernelspec": {
      "name": "python3",
      "display_name": "Python 3"
    },
    "language_info": {
      "name": "python"
    }
  },
  "cells": [
    {
      "cell_type": "markdown",
      "source": [
        "# Library Import"
      ],
      "metadata": {
        "id": "QJ8dxFwEmmNs"
      }
    },
    {
      "cell_type": "code",
      "source": [
        "!pip install gdown"
      ],
      "metadata": {
        "colab": {
          "base_uri": "https://localhost:8080/"
        },
        "id": "kedW03vAs5Jf",
        "outputId": "5b86fea4-6d46-4407-f7e8-47832f68cf53"
      },
      "execution_count": null,
      "outputs": [
        {
          "output_type": "stream",
          "name": "stdout",
          "text": [
            "Requirement already satisfied: gdown in /usr/local/lib/python3.10/dist-packages (5.1.0)\n",
            "Requirement already satisfied: beautifulsoup4 in /usr/local/lib/python3.10/dist-packages (from gdown) (4.12.3)\n",
            "Requirement already satisfied: filelock in /usr/local/lib/python3.10/dist-packages (from gdown) (3.16.0)\n",
            "Requirement already satisfied: requests[socks] in /usr/local/lib/python3.10/dist-packages (from gdown) (2.32.3)\n",
            "Requirement already satisfied: tqdm in /usr/local/lib/python3.10/dist-packages (from gdown) (4.66.5)\n",
            "Requirement already satisfied: soupsieve>1.2 in /usr/local/lib/python3.10/dist-packages (from beautifulsoup4->gdown) (2.6)\n",
            "Requirement already satisfied: charset-normalizer<4,>=2 in /usr/local/lib/python3.10/dist-packages (from requests[socks]->gdown) (3.3.2)\n",
            "Requirement already satisfied: idna<4,>=2.5 in /usr/local/lib/python3.10/dist-packages (from requests[socks]->gdown) (3.10)\n",
            "Requirement already satisfied: urllib3<3,>=1.21.1 in /usr/local/lib/python3.10/dist-packages (from requests[socks]->gdown) (2.0.7)\n",
            "Requirement already satisfied: certifi>=2017.4.17 in /usr/local/lib/python3.10/dist-packages (from requests[socks]->gdown) (2024.8.30)\n",
            "Requirement already satisfied: PySocks!=1.5.7,>=1.5.6 in /usr/local/lib/python3.10/dist-packages (from requests[socks]->gdown) (1.7.1)\n"
          ]
        }
      ]
    },
    {
      "cell_type": "code",
      "execution_count": null,
      "metadata": {
        "id": "J_hjEI2ACes6"
      },
      "outputs": [],
      "source": [
        "import pickle\n",
        "import gzip\n",
        "import numpy as np\n",
        "import gdown\n",
        "import zipfile\n",
        "import os\n",
        "from PIL import Image\n",
        "from sklearn.metrics import confusion_matrix"
      ]
    },
    {
      "cell_type": "markdown",
      "source": [
        "# Load Data"
      ],
      "metadata": {
        "id": "TBJR54PbePi6"
      }
    },
    {
      "cell_type": "markdown",
      "source": [
        "## Load MNIST Data"
      ],
      "metadata": {
        "id": "sLlAabqneTqa"
      }
    },
    {
      "cell_type": "code",
      "source": [
        "url = 'https://drive.google.com/uc?id=1bf3Fb_5VelMq8kT0q-Zc8sRpxvYjJ05S'\n",
        "output = 'mnist.pkl.gz'\n",
        "\n",
        "gdown.download(url, output, quiet=False)"
      ],
      "metadata": {
        "colab": {
          "base_uri": "https://localhost:8080/",
          "height": 105
        },
        "id": "gb9QlogOtiKu",
        "outputId": "88d63edb-5366-4223-c9b4-4eaea162399f"
      },
      "execution_count": null,
      "outputs": [
        {
          "output_type": "stream",
          "name": "stderr",
          "text": [
            "Downloading...\n",
            "From: https://drive.google.com/uc?id=1bf3Fb_5VelMq8kT0q-Zc8sRpxvYjJ05S\n",
            "To: /content/mnist.pkl.gz\n",
            "100%|██████████| 17.1M/17.1M [00:00<00:00, 67.3MB/s]\n"
          ]
        },
        {
          "output_type": "execute_result",
          "data": {
            "text/plain": [
              "'mnist.pkl.gz'"
            ],
            "application/vnd.google.colaboratory.intrinsic+json": {
              "type": "string"
            }
          },
          "metadata": {},
          "execution_count": 3
        }
      ]
    },
    {
      "cell_type": "code",
      "source": [
        "# Opening and decompressing .gzip file\n",
        "filename = 'mnist.pkl.gz'\n",
        "f = gzip.open(filename, 'rb')\n",
        "\n",
        "# Unpickling .pkl file saved as byte stream on disk to python objects\n",
        "trainingData, validationData, testingData = pickle.load(f, encoding='latin1')\n",
        "f.close()\n"
      ],
      "metadata": {
        "id": "ZDITFwrltz1j"
      },
      "execution_count": null,
      "outputs": []
    },
    {
      "cell_type": "code",
      "source": [
        "# Training feature vectors and training target extracted from trainingData (target represented using one-hot format)\n",
        "trainingTarget = np.array([1 if  trainingData[1][i] == t else 0  for i in range(len(trainingData[1])) for t in range(10)]).reshape(-1,10)\n",
        "trainingData = trainingData[0]\n",
        "\n",
        "# Validation feature vectors and validation target extracted from validationData\n",
        "validationTarget = validationData[1]\n",
        "validationData = validationData[0]\n",
        "\n",
        "# Testing feature vectors and testing target extracted from testingData\n",
        "testingTarget = testingData[1]\n",
        "testingData = testingData[0]"
      ],
      "metadata": {
        "id": "EKgIqKWyzbHk"
      },
      "execution_count": null,
      "outputs": []
    },
    {
      "cell_type": "markdown",
      "source": [
        "## Load Data USPS"
      ],
      "metadata": {
        "id": "M7KAAhAGxxjx"
      }
    },
    {
      "cell_type": "code",
      "source": [
        "url = 'https://drive.google.com/uc?id=11wHV2TrUAo9Zk5OgkX1Zv1XJuxC-IhmD'\n",
        "output = 'USPSdata.zip'\n",
        "\n",
        "# install file ZIP\n",
        "gdown.download(url, output, quiet=False)"
      ],
      "metadata": {
        "colab": {
          "base_uri": "https://localhost:8080/",
          "height": 122
        },
        "id": "HrHdybTrx0Su",
        "outputId": "933843d3-cd42-41d7-f602-83a29c461ffe"
      },
      "execution_count": null,
      "outputs": [
        {
          "output_type": "stream",
          "name": "stderr",
          "text": [
            "Downloading...\n",
            "From (original): https://drive.google.com/uc?id=11wHV2TrUAo9Zk5OgkX1Zv1XJuxC-IhmD\n",
            "From (redirected): https://drive.google.com/uc?id=11wHV2TrUAo9Zk5OgkX1Zv1XJuxC-IhmD&confirm=t&uuid=34bf34d3-57a0-4447-8812-b2cc5033edc1\n",
            "To: /content/USPSdata.zip\n",
            "100%|██████████| 33.0M/33.0M [00:01<00:00, 20.1MB/s]\n"
          ]
        },
        {
          "output_type": "execute_result",
          "data": {
            "text/plain": [
              "'USPSdata.zip'"
            ],
            "application/vnd.google.colaboratory.intrinsic+json": {
              "type": "string"
            }
          },
          "metadata": {},
          "execution_count": 6
        }
      ]
    },
    {
      "cell_type": "code",
      "source": [
        "# extract file ZIP\n",
        "with zipfile.ZipFile('USPSdata.zip', 'r') as zip_ref:\n",
        "    zip_ref.extractall('USPSdata')"
      ],
      "metadata": {
        "id": "sfsXC8PHyIgL"
      },
      "execution_count": null,
      "outputs": []
    },
    {
      "cell_type": "code",
      "source": [
        "USPSMat  = []\n",
        "USPSTar  = []\n",
        "curPath  = 'USPSdata/USPSdata/Numerals'\n",
        "savedImg = []"
      ],
      "metadata": {
        "id": "2cXZKLSEyYVw"
      },
      "execution_count": null,
      "outputs": []
    },
    {
      "cell_type": "code",
      "source": [
        "\n",
        "for j in range(0, 10):\n",
        "    curFolderPath = curPath + '/' + str(j)\n",
        "    imgs = os.listdir(curFolderPath)\n",
        "\n",
        "    for img in imgs:\n",
        "        curImg = curFolderPath + '/' + img\n",
        "\n",
        "        if curImg[-3:] == 'png':\n",
        "            # Open image resize it, and save image array as well as labels in 2 lists\n",
        "            img = Image.open(curImg,'r')\n",
        "            img = img.resize((28, 28))\n",
        "            savedImg = img\n",
        "            imgdata = (255-np.array(img.getdata()))/255\n",
        "            USPSMat.append(imgdata)\n",
        "            USPSTar.append(j)"
      ],
      "metadata": {
        "id": "DuWqNYFeyhHM"
      },
      "execution_count": null,
      "outputs": []
    },
    {
      "cell_type": "markdown",
      "source": [
        "# Convolutional Neural Network"
      ],
      "metadata": {
        "id": "UdSFW5xXzDWJ"
      }
    },
    {
      "cell_type": "code",
      "source": [
        "import keras\n",
        "from keras.datasets import mnist\n",
        "from keras.layers import Dense\n",
        "from keras.models import Sequential\n",
        "from keras.layers import Conv2D, MaxPooling2D, Dropout, Flatten"
      ],
      "metadata": {
        "id": "WLN-LYI_zJom"
      },
      "execution_count": null,
      "outputs": []
    },
    {
      "cell_type": "code",
      "source": [
        "#CNN\n",
        "num_classes = len(trainingTarget[0])\n",
        "CNNclassifier = Sequential()\n",
        "CNNclassifier.add(Conv2D(20, kernel_size=(3, 3), activation='relu', input_shape=(28,28,1)))\n",
        "CNNclassifier.add(MaxPooling2D(pool_size=(2, 2)))\n",
        "CNNclassifier.add(Conv2D(20, (3, 3), activation='relu'))\n",
        "CNNclassifier.add(MaxPooling2D(pool_size=(2, 2)))\n",
        "CNNclassifier.add(Flatten())\n",
        "CNNclassifier.add(Dense(units=200, activation='relu'))\n",
        "CNNclassifier.add(Dropout(0.2))\n",
        "CNNclassifier.add(Dense(units=200, activation='relu'))\n",
        "CNNclassifier.add(Dropout(0.2))\n",
        "CNNclassifier.add(Dense(units=num_classes, activation='softmax'))\n",
        "CNNclassifier.compile(optimizer='Adamax', loss='categorical_crossentropy',metrics=['accuracy'])\n",
        "history = CNNclassifier.fit(trainingData.reshape(-1, 28, 28, 1), trainingTarget, batch_size=128, epochs=10,\n",
        "verbose=True,validation_data=(validationData.reshape(-1, 28, 28, 1), keras.utils.to_categorical(validationTarget, num_classes)))"
      ],
      "metadata": {
        "colab": {
          "base_uri": "https://localhost:8080/"
        },
        "id": "ULcmVrHszHHJ",
        "outputId": "e87e1e8c-2c12-4c24-bf2f-5fcc891cdac3"
      },
      "execution_count": null,
      "outputs": [
        {
          "output_type": "stream",
          "name": "stderr",
          "text": [
            "/usr/local/lib/python3.10/dist-packages/keras/src/layers/convolutional/base_conv.py:107: UserWarning: Do not pass an `input_shape`/`input_dim` argument to a layer. When using Sequential models, prefer using an `Input(shape)` object as the first layer in the model instead.\n",
            "  super().__init__(activity_regularizer=activity_regularizer, **kwargs)\n"
          ]
        },
        {
          "output_type": "stream",
          "name": "stdout",
          "text": [
            "Epoch 1/10\n",
            "\u001b[1m391/391\u001b[0m \u001b[32m━━━━━━━━━━━━━━━━━━━━\u001b[0m\u001b[37m\u001b[0m \u001b[1m28s\u001b[0m 66ms/step - accuracy: 0.6994 - loss: 0.9640 - val_accuracy: 0.9618 - val_loss: 0.1362\n",
            "Epoch 2/10\n",
            "\u001b[1m391/391\u001b[0m \u001b[32m━━━━━━━━━━━━━━━━━━━━\u001b[0m\u001b[37m\u001b[0m \u001b[1m41s\u001b[0m 66ms/step - accuracy: 0.9512 - loss: 0.1661 - val_accuracy: 0.9741 - val_loss: 0.0876\n",
            "Epoch 3/10\n",
            "\u001b[1m391/391\u001b[0m \u001b[32m━━━━━━━━━━━━━━━━━━━━\u001b[0m\u001b[37m\u001b[0m \u001b[1m25s\u001b[0m 64ms/step - accuracy: 0.9644 - loss: 0.1159 - val_accuracy: 0.9789 - val_loss: 0.0717\n",
            "Epoch 4/10\n",
            "\u001b[1m391/391\u001b[0m \u001b[32m━━━━━━━━━━━━━━━━━━━━\u001b[0m\u001b[37m\u001b[0m \u001b[1m45s\u001b[0m 74ms/step - accuracy: 0.9726 - loss: 0.0894 - val_accuracy: 0.9814 - val_loss: 0.0626\n",
            "Epoch 5/10\n",
            "\u001b[1m391/391\u001b[0m \u001b[32m━━━━━━━━━━━━━━━━━━━━\u001b[0m\u001b[37m\u001b[0m \u001b[1m37s\u001b[0m 65ms/step - accuracy: 0.9777 - loss: 0.0735 - val_accuracy: 0.9830 - val_loss: 0.0562\n",
            "Epoch 6/10\n",
            "\u001b[1m391/391\u001b[0m \u001b[32m━━━━━━━━━━━━━━━━━━━━\u001b[0m\u001b[37m\u001b[0m \u001b[1m25s\u001b[0m 63ms/step - accuracy: 0.9804 - loss: 0.0628 - val_accuracy: 0.9838 - val_loss: 0.0521\n",
            "Epoch 7/10\n",
            "\u001b[1m391/391\u001b[0m \u001b[32m━━━━━━━━━━━━━━━━━━━━\u001b[0m\u001b[37m\u001b[0m \u001b[1m42s\u001b[0m 65ms/step - accuracy: 0.9819 - loss: 0.0584 - val_accuracy: 0.9851 - val_loss: 0.0510\n",
            "Epoch 8/10\n",
            "\u001b[1m391/391\u001b[0m \u001b[32m━━━━━━━━━━━━━━━━━━━━\u001b[0m\u001b[37m\u001b[0m \u001b[1m40s\u001b[0m 63ms/step - accuracy: 0.9855 - loss: 0.0481 - val_accuracy: 0.9867 - val_loss: 0.0453\n",
            "Epoch 9/10\n",
            "\u001b[1m391/391\u001b[0m \u001b[32m━━━━━━━━━━━━━━━━━━━━\u001b[0m\u001b[37m\u001b[0m \u001b[1m25s\u001b[0m 65ms/step - accuracy: 0.9856 - loss: 0.0464 - val_accuracy: 0.9861 - val_loss: 0.0460\n",
            "Epoch 10/10\n",
            "\u001b[1m391/391\u001b[0m \u001b[32m━━━━━━━━━━━━━━━━━━━━\u001b[0m\u001b[37m\u001b[0m \u001b[1m41s\u001b[0m 64ms/step - accuracy: 0.9859 - loss: 0.0438 - val_accuracy: 0.9879 - val_loss: 0.0432\n"
          ]
        }
      ]
    },
    {
      "cell_type": "code",
      "source": [
        "loss,valAccuracy = CNNclassifier.evaluate(validationData.reshape(-1, 28, 28, 1), keras.utils.to_categorical(validationTarget, num_classes), verbose=False)\n",
        "loss,testAccuracy = CNNclassifier.evaluate(testingData.reshape(-1, 28, 28, 1), keras.utils.to_categorical(testingTarget, num_classes), verbose=False)\n",
        "loss,testUSPSAccuracy = CNNclassifier.evaluate(np.array(USPSMat).reshape(-1, 28, 28, 1), keras.utils.to_categorical(USPSTar, num_classes), verbose=False)\n",
        "cnnMNISTPrediction = np.argmax(CNNclassifier.predict(testingData.reshape(-1, 28, 28, 1)), axis=1)\n",
        "cnnUSPSPrediction = np.argmax(CNNclassifier.predict(np.array(USPSMat).reshape(-1, 28, 28, 1)), axis=1)\n",
        "\n",
        "print ('---------------CNN----------------\\n')\n",
        "print('Validation accuracy    = ', valAccuracy*100)\n",
        "print('MNIST Testing accuracy = ', testAccuracy*100)\n",
        "print('USPS Testing accuracy  = ', testUSPSAccuracy*100,\"\\n\")\n",
        "print(\"\\nMNIST Confusion Matrix: \\n\\n\",confusion_matrix(testingTarget, cnnMNISTPrediction))\n",
        "print(\"\\nUSPS Confusion Matrix: \\n\\n\",confusion_matrix(USPSTar, cnnUSPSPrediction))"
      ],
      "metadata": {
        "colab": {
          "base_uri": "https://localhost:8080/"
        },
        "id": "qRr2nSEXkc2U",
        "outputId": "1bae0a61-08da-492b-cfd6-e9fc60248971"
      },
      "execution_count": null,
      "outputs": [
        {
          "output_type": "stream",
          "name": "stdout",
          "text": [
            "\u001b[1m313/313\u001b[0m \u001b[32m━━━━━━━━━━━━━━━━━━━━\u001b[0m\u001b[37m\u001b[0m \u001b[1m3s\u001b[0m 10ms/step\n",
            "\u001b[1m625/625\u001b[0m \u001b[32m━━━━━━━━━━━━━━━━━━━━\u001b[0m\u001b[37m\u001b[0m \u001b[1m4s\u001b[0m 6ms/step\n",
            "---------------CNN----------------\n",
            "\n",
            "Validation accuracy    =  98.79000186920166\n",
            "MNIST Testing accuracy =  98.9300012588501\n",
            "USPS Testing accuracy  =  63.198161125183105 \n",
            "\n",
            "\n",
            "MNIST Confusion Matrix: \n",
            "\n",
            " [[ 975    0    0    0    1    0    1    1    2    0]\n",
            " [   0 1131    3    0    0    0    1    0    0    0]\n",
            " [   2    0 1020    1    1    0    0    7    1    0]\n",
            " [   1    0    1  999    0    3    0    3    2    1]\n",
            " [   0    0    1    0  975    0    1    0    1    4]\n",
            " [   2    0    1    5    0  880    2    1    1    0]\n",
            " [   5    2    0    1    2    4  942    0    2    0]\n",
            " [   0    0    4    2    0    0    0 1017    1    4]\n",
            " [   3    0    2    2    0    2    0    3  956    6]\n",
            " [   3    2    0    1    4    1    0    0    0  998]]\n",
            "\n",
            "USPS Confusion Matrix: \n",
            "\n",
            " [[ 696    0   65   24  400    8   10   32   29  736]\n",
            " [  82  732  169   52  350   23   11  492   69   20]\n",
            " [  39    2 1667   85   16   95   15   16   57    7]\n",
            " [   2    0   46 1706    0  221    0   11   13    1]\n",
            " [   3   12   38    1 1390    7    4  435   91   19]\n",
            " [   7    0   23  112    4 1703    1   50   65   35]\n",
            " [ 128    2  159    7   40   61 1497    0   94   12]\n",
            " [   3   17  130  159    8    8    0 1637   29    9]\n",
            " [  16    2   64  224   25  424   10  154  958  123]\n",
            " [   2    6   61  201  132   10    0  707  228  653]]\n"
          ]
        }
      ]
    },
    {
      "cell_type": "markdown",
      "source": [
        "# DenseNet"
      ],
      "metadata": {
        "id": "AM_ddCq4LVLV"
      }
    },
    {
      "cell_type": "code",
      "source": [
        "from tensorflow.keras.layers import Input, Conv2D, BatchNormalization, Activation, Dense, Flatten, Dropout, AveragePooling2D, MaxPooling2D, GlobalAveragePooling2D, Concatenate\n",
        "from tensorflow.keras.models import Model\n",
        "from tensorflow.keras.optimizers import Adamax"
      ],
      "metadata": {
        "id": "hZza8FfaBTX8"
      },
      "execution_count": null,
      "outputs": []
    },
    {
      "cell_type": "code",
      "source": [
        "def densenet_block(x, growth_rate, layers):\n",
        "    for _ in range(layers):\n",
        "        bn = BatchNormalization()(x)\n",
        "        relu = Activation('relu')(bn)\n",
        "\n",
        "        bottleneck = Conv2D(4 * growth_rate, (1, 1), padding='same', activation='relu')(relu)\n",
        "\n",
        "        conv = Conv2D(growth_rate, (3, 3), padding='same')(bottleneck)\n",
        "\n",
        "        x = Concatenate()([x, conv])\n",
        "    return x\n",
        "\n",
        "def transition_layer(x, compression_factor=0.5):\n",
        "    bn = BatchNormalization()(x)\n",
        "    relu = Activation('relu')(bn)\n",
        "\n",
        "    conv = Conv2D(int(x.shape[-1] * compression_factor), (1, 1), padding='same', activation='relu')(relu)\n",
        "\n",
        "    x = AveragePooling2D(pool_size=(2, 2), strides=(2, 2), padding='same')(conv)\n",
        "    return x\n",
        "\n",
        "\n",
        "def create_densenet_model(input_shape, num_classes, growth_rate=32, num_dense_blocks=3, layers_per_block=4, compression_factor=0.5):\n",
        "    inputs = Input(shape=input_shape)\n",
        "\n",
        "    # Initial Conv layer\n",
        "    x = Conv2D(64, (3, 3), padding='same', activation='relu')(inputs)\n",
        "    x = MaxPooling2D(pool_size=(2, 2))(x)\n",
        "\n",
        "    # Add DenseNet blocks with transition layers\n",
        "    for i in range(num_dense_blocks):\n",
        "        x = densenet_block(x, growth_rate, layers_per_block)\n",
        "\n",
        "        if i != num_dense_blocks - 1:\n",
        "            x = transition_layer(x, compression_factor)\n",
        "\n",
        "    x = GlobalAveragePooling2D()(x)\n",
        "\n",
        "    # Fully connected layers\n",
        "    x = Dense(512, activation='relu')(x)\n",
        "    x = Dropout(0.5)(x)\n",
        "    x = Dense(512, activation='relu')(x)\n",
        "    x = Dropout(0.5)(x)\n",
        "\n",
        "\n",
        "    outputs = Dense(num_classes, activation='softmax')(x)\n",
        "\n",
        "    model = Model(inputs, outputs)\n",
        "\n",
        "    model.compile(optimizer=Adamax(), loss='categorical_crossentropy', metrics=['accuracy'])\n",
        "    return model"
      ],
      "metadata": {
        "id": "3qGui2CfBc2s"
      },
      "execution_count": null,
      "outputs": []
    },
    {
      "cell_type": "code",
      "source": [
        "DenseNetModel = create_densenet_model((28, 28, 1), num_classes)\n",
        "\n",
        "history = DenseNetModel.fit(\n",
        "    trainingData.reshape(-1, 28, 28, 1),\n",
        "    trainingTarget,\n",
        "    batch_size=128,\n",
        "    epochs=10,\n",
        "    verbose=True,\n",
        "    validation_data=(validationData.reshape(-1, 28, 28, 1), keras.utils.to_categorical(validationTarget, num_classes))\n",
        ")"
      ],
      "metadata": {
        "colab": {
          "base_uri": "https://localhost:8080/"
        },
        "id": "rfGDr6p2Bd9l",
        "outputId": "854c4593-5b34-45a4-cd84-79d37b306a7a"
      },
      "execution_count": null,
      "outputs": [
        {
          "output_type": "stream",
          "name": "stdout",
          "text": [
            "Epoch 1/10\n",
            "\u001b[1m391/391\u001b[0m \u001b[32m━━━━━━━━━━━━━━━━━━━━\u001b[0m\u001b[37m\u001b[0m \u001b[1m700s\u001b[0m 2s/step - accuracy: 0.7529 - loss: 0.7096 - val_accuracy: 0.2347 - val_loss: 2.1990\n",
            "Epoch 2/10\n",
            "\u001b[1m391/391\u001b[0m \u001b[32m━━━━━━━━━━━━━━━━━━━━\u001b[0m\u001b[37m\u001b[0m \u001b[1m737s\u001b[0m 2s/step - accuracy: 0.9833 - loss: 0.0570 - val_accuracy: 0.9509 - val_loss: 0.1660\n",
            "Epoch 3/10\n",
            "\u001b[1m391/391\u001b[0m \u001b[32m━━━━━━━━━━━━━━━━━━━━\u001b[0m\u001b[37m\u001b[0m \u001b[1m683s\u001b[0m 2s/step - accuracy: 0.9875 - loss: 0.0403 - val_accuracy: 0.9855 - val_loss: 0.0530\n",
            "Epoch 4/10\n",
            "\u001b[1m391/391\u001b[0m \u001b[32m━━━━━━━━━━━━━━━━━━━━\u001b[0m\u001b[37m\u001b[0m \u001b[1m684s\u001b[0m 2s/step - accuracy: 0.9926 - loss: 0.0255 - val_accuracy: 0.9783 - val_loss: 0.0852\n",
            "Epoch 5/10\n",
            "\u001b[1m391/391\u001b[0m \u001b[32m━━━━━━━━━━━━━━━━━━━━\u001b[0m\u001b[37m\u001b[0m \u001b[1m753s\u001b[0m 2s/step - accuracy: 0.9934 - loss: 0.0221 - val_accuracy: 0.9507 - val_loss: 0.2140\n",
            "Epoch 6/10\n",
            "\u001b[1m391/391\u001b[0m \u001b[32m━━━━━━━━━━━━━━━━━━━━\u001b[0m\u001b[37m\u001b[0m \u001b[1m729s\u001b[0m 2s/step - accuracy: 0.9941 - loss: 0.0184 - val_accuracy: 0.9839 - val_loss: 0.0685\n",
            "Epoch 7/10\n",
            "\u001b[1m391/391\u001b[0m \u001b[32m━━━━━━━━━━━━━━━━━━━━\u001b[0m\u001b[37m\u001b[0m \u001b[1m688s\u001b[0m 2s/step - accuracy: 0.9951 - loss: 0.0144 - val_accuracy: 0.9902 - val_loss: 0.0366\n",
            "Epoch 8/10\n",
            "\u001b[1m391/391\u001b[0m \u001b[32m━━━━━━━━━━━━━━━━━━━━\u001b[0m\u001b[37m\u001b[0m \u001b[1m751s\u001b[0m 2s/step - accuracy: 0.9955 - loss: 0.0137 - val_accuracy: 0.9903 - val_loss: 0.0470\n",
            "Epoch 9/10\n",
            "\u001b[1m391/391\u001b[0m \u001b[32m━━━━━━━━━━━━━━━━━━━━\u001b[0m\u001b[37m\u001b[0m \u001b[1m731s\u001b[0m 2s/step - accuracy: 0.9973 - loss: 0.0091 - val_accuracy: 0.9894 - val_loss: 0.0395\n",
            "Epoch 10/10\n",
            "\u001b[1m391/391\u001b[0m \u001b[32m━━━━━━━━━━━━━━━━━━━━\u001b[0m\u001b[37m\u001b[0m \u001b[1m754s\u001b[0m 2s/step - accuracy: 0.9983 - loss: 0.0068 - val_accuracy: 0.9886 - val_loss: 0.0478\n"
          ]
        }
      ]
    },
    {
      "cell_type": "code",
      "source": [
        "from sklearn.metrics import confusion_matrix\n",
        "\n",
        "loss, valAccuracy = DenseNetModel.evaluate(validationData.reshape(-1, 28, 28, 1), keras.utils.to_categorical(validationTarget, num_classes), verbose=False)\n",
        "loss, testAccuracy = DenseNetModel.evaluate(testingData.reshape(-1, 28, 28, 1), keras.utils.to_categorical(testingTarget, num_classes), verbose=False)\n",
        "loss, testUSPSAccuracy = DenseNetModel.evaluate(np.array(USPSMat).reshape(-1, 28, 28, 1), keras.utils.to_categorical(USPSTar, num_classes), verbose=False)\n",
        "densenetMNISTPrediction = np.argmax(DenseNetModel.predict(testingData.reshape(-1, 28, 28, 1)), axis=1)\n",
        "densenetUSPSPrediction = np.argmax(DenseNetModel.predict(np.array(USPSMat).reshape(-1, 28, 28, 1)), axis=1)\n",
        "\n",
        "print('---------------DenseNet----------------\\n')\n",
        "print('Validation accuracy    = ', valAccuracy * 100)\n",
        "print('MNIST Testing accuracy = ', testAccuracy * 100)\n",
        "print('USPS Testing accuracy  = ', testUSPSAccuracy * 100, \"\\n\")\n",
        "print(\"\\nMNIST Confusion Matrix: \\n\\n\", confusion_matrix(testingTarget, densenetMNISTPrediction))\n",
        "print(\"\\nUSPS Confusion Matrix: \\n\\n\", confusion_matrix(USPSTar, densenetUSPSPrediction))\n"
      ],
      "metadata": {
        "colab": {
          "base_uri": "https://localhost:8080/"
        },
        "id": "wqthRA-NGfyB",
        "outputId": "d523754b-5116-4ccc-b150-ba23264e2ee0"
      },
      "execution_count": null,
      "outputs": [
        {
          "output_type": "stream",
          "name": "stdout",
          "text": [
            "\u001b[1m313/313\u001b[0m \u001b[32m━━━━━━━━━━━━━━━━━━━━\u001b[0m\u001b[37m\u001b[0m \u001b[1m34s\u001b[0m 105ms/step\n",
            "\u001b[1m625/625\u001b[0m \u001b[32m━━━━━━━━━━━━━━━━━━━━\u001b[0m\u001b[37m\u001b[0m \u001b[1m64s\u001b[0m 103ms/step\n",
            "---------------DenseNet----------------\n",
            "\n",
            "Validation accuracy    =  98.86000156402588\n",
            "MNIST Testing accuracy =  99.1100013256073\n",
            "USPS Testing accuracy  =  76.55882835388184 \n",
            "\n",
            "\n",
            "MNIST Confusion Matrix: \n",
            "\n",
            " [[ 974    0    1    0    2    0    2    1    0    0]\n",
            " [   0 1135    0    0    0    0    0    0    0    0]\n",
            " [   0    0 1028    0    3    0    0    1    0    0]\n",
            " [   0    1    0 1000    0    8    0    0    0    1]\n",
            " [   0    0    0    0  982    0    0    0    0    0]\n",
            " [   1    0    0    2    0  888    1    0    0    0]\n",
            " [   1    3    0    0    9    1  944    0    0    0]\n",
            " [   0    5    8    0    1    0    0 1007    0    7]\n",
            " [   1    0    1    0    3    1    0    0  965    3]\n",
            " [   0    0    0    0   20    0    0    0    1  988]]\n",
            "\n",
            "USPS Confusion Matrix: \n",
            "\n",
            " [[ 927    0  547    0  273   12   65    0  147   29]\n",
            " [   2 1118  163   21  508   18  137    6   25    2]\n",
            " [   0    2 1955    8    5    5    0    2   21    1]\n",
            " [   1    1   46 1782    0   95    1    1   72    1]\n",
            " [   1    1   31    0 1917    1    2   10   31    6]\n",
            " [   1    1   31    2   14 1846    7    2   89    7]\n",
            " [   1    0   97    0  199   15 1635    0   53    0]\n",
            " [   7   47  647   90   19   30   10  988  158    4]\n",
            " [   1    0   49    2   15   34    9    0 1889    1]\n",
            " [   5    2   76    7  176   20    0   11  449 1254]]\n"
          ]
        }
      ]
    },
    {
      "cell_type": "markdown",
      "source": [
        "# Data Augmentation"
      ],
      "metadata": {
        "id": "gOn_Cg1QeAKQ"
      }
    },
    {
      "cell_type": "code",
      "source": [
        "from tensorflow.keras.preprocessing.image import ImageDataGenerator\n",
        "\n",
        "datagen = ImageDataGenerator(\n",
        "    rotation_range=10,\n",
        "    width_shift_range=0.1,\n",
        "    height_shift_range=0.1,\n",
        "    zoom_range=0.1,\n",
        "    shear_range=0.1\n",
        ")"
      ],
      "metadata": {
        "id": "8tW_TWKCeDAO"
      },
      "execution_count": null,
      "outputs": []
    },
    {
      "cell_type": "markdown",
      "source": [
        "## CNN"
      ],
      "metadata": {
        "id": "lXyxzMBnGb2w"
      }
    },
    {
      "cell_type": "code",
      "source": [
        "history = CNNclassifier.fit(datagen.flow(trainingData.reshape(-1, 28, 28, 1), trainingTarget, batch_size=128),\n",
        "                    epochs=10, validation_data=(validationData.reshape(-1, 28, 28, 1), keras.utils.to_categorical(validationTarget, num_classes)))\n",
        "\n",
        "loss, valAccuracy = CNNclassifier.evaluate(validationData.reshape(-1, 28, 28, 1), keras.utils.to_categorical(validationTarget, num_classes), verbose=False)\n",
        "loss, testAccuracy = CNNclassifier.evaluate(testingData.reshape(-1, 28, 28, 1), keras.utils.to_categorical(testingTarget, num_classes), verbose=False)\n",
        "loss, testUSPSAccuracy = CNNclassifier.evaluate(np.array(USPSMat).reshape(-1, 28, 28, 1), keras.utils.to_categorical(USPSTar, num_classes), verbose=False)\n",
        "\n",
        "cnnMNISTPrediction = np.argmax(CNNclassifier.predict(testingData.reshape(-1, 28, 28, 1)), axis=1)\n",
        "cnnUSPSPrediction = np.argmax(CNNclassifier.predict(np.array(USPSMat).reshape(-1, 28, 28, 1)), axis=1)\n",
        "\n",
        "print ('---------------CNN----------------\\n')\n",
        "print('Validation accuracy    = ', valAccuracy*100)\n",
        "print('MNIST Testing accuracy = ', testAccuracy*100)\n",
        "print('USPS Testing accuracy  = ', testUSPSAccuracy*100,\"\\n\")\n",
        "print(\"\\nMNIST Confusion Matrix: \\n\\n\", confusion_matrix(testingTarget, cnnMNISTPrediction))\n",
        "print(\"\\nUSPS Confusion Matrix: \\n\\n\", confusion_matrix(USPSTar, cnnUSPSPrediction))"
      ],
      "metadata": {
        "colab": {
          "base_uri": "https://localhost:8080/"
        },
        "id": "L-b0IlyqGdIx",
        "outputId": "2f7bf241-74b1-447d-e4ad-798800556cc8"
      },
      "execution_count": null,
      "outputs": [
        {
          "output_type": "stream",
          "name": "stdout",
          "text": [
            "Epoch 1/10\n"
          ]
        },
        {
          "output_type": "stream",
          "name": "stderr",
          "text": [
            "/usr/local/lib/python3.10/dist-packages/keras/src/trainers/data_adapters/py_dataset_adapter.py:121: UserWarning: Your `PyDataset` class should call `super().__init__(**kwargs)` in its constructor. `**kwargs` can include `workers`, `use_multiprocessing`, `max_queue_size`. Do not pass these arguments to `fit()`, as they will be ignored.\n",
            "  self._warn_if_super_not_called()\n"
          ]
        },
        {
          "output_type": "stream",
          "name": "stdout",
          "text": [
            "\u001b[1m391/391\u001b[0m \u001b[32m━━━━━━━━━━━━━━━━━━━━\u001b[0m\u001b[37m\u001b[0m \u001b[1m42s\u001b[0m 107ms/step - accuracy: 0.9039 - loss: 0.3153 - val_accuracy: 0.9842 - val_loss: 0.0494\n",
            "Epoch 2/10\n",
            "\u001b[1m391/391\u001b[0m \u001b[32m━━━━━━━━━━━━━━━━━━━━\u001b[0m\u001b[37m\u001b[0m \u001b[1m82s\u001b[0m 106ms/step - accuracy: 0.9456 - loss: 0.1718 - val_accuracy: 0.9871 - val_loss: 0.0434\n",
            "Epoch 3/10\n",
            "\u001b[1m391/391\u001b[0m \u001b[32m━━━━━━━━━━━━━━━━━━━━\u001b[0m\u001b[37m\u001b[0m \u001b[1m41s\u001b[0m 105ms/step - accuracy: 0.9557 - loss: 0.1465 - val_accuracy: 0.9866 - val_loss: 0.0444\n",
            "Epoch 4/10\n",
            "\u001b[1m391/391\u001b[0m \u001b[32m━━━━━━━━━━━━━━━━━━━━\u001b[0m\u001b[37m\u001b[0m \u001b[1m82s\u001b[0m 106ms/step - accuracy: 0.9616 - loss: 0.1255 - val_accuracy: 0.9865 - val_loss: 0.0431\n",
            "Epoch 5/10\n",
            "\u001b[1m391/391\u001b[0m \u001b[32m━━━━━━━━━━━━━━━━━━━━\u001b[0m\u001b[37m\u001b[0m \u001b[1m82s\u001b[0m 106ms/step - accuracy: 0.9637 - loss: 0.1194 - val_accuracy: 0.9887 - val_loss: 0.0393\n",
            "Epoch 6/10\n",
            "\u001b[1m391/391\u001b[0m \u001b[32m━━━━━━━━━━━━━━━━━━━━\u001b[0m\u001b[37m\u001b[0m \u001b[1m82s\u001b[0m 106ms/step - accuracy: 0.9657 - loss: 0.1090 - val_accuracy: 0.9899 - val_loss: 0.0376\n",
            "Epoch 7/10\n",
            "\u001b[1m391/391\u001b[0m \u001b[32m━━━━━━━━━━━━━━━━━━━━\u001b[0m\u001b[37m\u001b[0m \u001b[1m82s\u001b[0m 107ms/step - accuracy: 0.9711 - loss: 0.0949 - val_accuracy: 0.9899 - val_loss: 0.0358\n",
            "Epoch 8/10\n",
            "\u001b[1m391/391\u001b[0m \u001b[32m━━━━━━━━━━━━━━━━━━━━\u001b[0m\u001b[37m\u001b[0m \u001b[1m42s\u001b[0m 107ms/step - accuracy: 0.9717 - loss: 0.0928 - val_accuracy: 0.9894 - val_loss: 0.0364\n",
            "Epoch 9/10\n",
            "\u001b[1m391/391\u001b[0m \u001b[32m━━━━━━━━━━━━━━━━━━━━\u001b[0m\u001b[37m\u001b[0m \u001b[1m42s\u001b[0m 106ms/step - accuracy: 0.9716 - loss: 0.0903 - val_accuracy: 0.9892 - val_loss: 0.0373\n",
            "Epoch 10/10\n",
            "\u001b[1m391/391\u001b[0m \u001b[32m━━━━━━━━━━━━━━━━━━━━\u001b[0m\u001b[37m\u001b[0m \u001b[1m45s\u001b[0m 113ms/step - accuracy: 0.9708 - loss: 0.0922 - val_accuracy: 0.9906 - val_loss: 0.0324\n",
            "\u001b[1m313/313\u001b[0m \u001b[32m━━━━━━━━━━━━━━━━━━━━\u001b[0m\u001b[37m\u001b[0m \u001b[1m2s\u001b[0m 6ms/step\n",
            "\u001b[1m625/625\u001b[0m \u001b[32m━━━━━━━━━━━━━━━━━━━━\u001b[0m\u001b[37m\u001b[0m \u001b[1m5s\u001b[0m 8ms/step\n",
            "---------------CNN----------------\n",
            "\n",
            "Validation accuracy    =  99.05999898910522\n",
            "MNIST Testing accuracy =  99.19999837875366\n",
            "USPS Testing accuracy  =  85.93429923057556 \n",
            "\n",
            "\n",
            "MNIST Confusion Matrix: \n",
            "\n",
            " [[ 977    0    1    0    1    0    1    0    0    0]\n",
            " [   0 1131    2    0    0    0    1    1    0    0]\n",
            " [   2    0 1023    1    1    0    0    4    1    0]\n",
            " [   0    0    0 1005    0    4    0    1    0    0]\n",
            " [   0    0    0    0  979    0    0    0    1    2]\n",
            " [   0    0    1    9    0  878    1    1    1    1]\n",
            " [   3    1    1    0    1    1  950    0    1    0]\n",
            " [   0    0    3    1    1    0    0 1020    1    2]\n",
            " [   1    0    3    2    0    1    2    2  960    3]\n",
            " [   2    0    0    2    7    0    0    1    0  997]]\n",
            "\n",
            "USPS Confusion Matrix: \n",
            "\n",
            " [[1467    0   24    2   85   10   71    2   37  302]\n",
            " [  27 1470  104   18  148    3   30  110   57   33]\n",
            " [  14    0 1805   82    9   15   13    4   55    2]\n",
            " [   4    1   23 1915    0   37    3    3   13    1]\n",
            " [   1    1   35    0 1781    1    6  101   38   36]\n",
            " [  20    2    8   51    1 1834    4   17   54    9]\n",
            " [  22    0   57    2   10   17 1845    0   47    0]\n",
            " [   7    3   61   33   11    2    0 1821   39   23]\n",
            " [  20    2   31   21   11  129    9    6 1720   51]\n",
            " [   8    1   28   77   35    4    0  164  155 1528]]\n"
          ]
        }
      ]
    },
    {
      "cell_type": "markdown",
      "source": [
        "## DenseNet"
      ],
      "metadata": {
        "id": "TUv4LY3aGYEk"
      }
    },
    {
      "cell_type": "code",
      "source": [
        "history = DenseNetModel.fit(datagen.flow(trainingData.reshape(-1, 28, 28, 1), trainingTarget, batch_size=128),\n",
        "                    epochs=10, validation_data=(validationData.reshape(-1, 28, 28, 1), keras.utils.to_categorical(validationTarget, num_classes)))\n",
        "\n",
        "# Evaluasi model\n",
        "loss, valAccuracy = DenseNetModel.evaluate(validationData.reshape(-1, 28, 28, 1), keras.utils.to_categorical(validationTarget, num_classes), verbose=False)\n",
        "loss, testAccuracy = DenseNetModel.evaluate(testingData.reshape(-1, 28, 28, 1), keras.utils.to_categorical(testingTarget, num_classes), verbose=False)\n",
        "loss, testUSPSAccuracy = DenseNetModel.evaluate(np.array(USPSMat).reshape(-1, 28, 28, 1), keras.utils.to_categorical(USPSTar, num_classes), verbose=False)\n",
        "\n",
        "# Prediksi\n",
        "densenetMNISTPrediction = np.argmax(DenseNetModel.predict(testingData.reshape(-1, 28, 28, 1)), axis=1)\n",
        "densenetUSPSPrediction = np.argmax(DenseNetModel.predict(np.array(USPSMat).reshape(-1, 28, 28, 1)), axis=1)\n",
        "\n",
        "# Output hasil\n",
        "print ('---------------DenseNet----------------\\n')\n",
        "print('Validation accuracy    = ', valAccuracy*100)\n",
        "print('MNIST Testing accuracy = ', testAccuracy*100)\n",
        "print('USPS Testing accuracy  = ', testUSPSAccuracy*100,\"\\n\")\n",
        "print(\"\\nMNIST Confusion Matrix: \\n\\n\", confusion_matrix(testingTarget, densenetMNISTPrediction))\n",
        "print(\"\\nUSPS Confusion Matrix: \\n\\n\", confusion_matrix(USPSTar, densenetUSPSPrediction))"
      ],
      "metadata": {
        "colab": {
          "base_uri": "https://localhost:8080/"
        },
        "id": "W0rIz4ykem0s",
        "outputId": "418e1072-cccd-48f6-94a4-4de14feea523"
      },
      "execution_count": null,
      "outputs": [
        {
          "output_type": "stream",
          "name": "stdout",
          "text": [
            "Epoch 1/10\n"
          ]
        },
        {
          "output_type": "stream",
          "name": "stderr",
          "text": [
            "/usr/local/lib/python3.10/dist-packages/keras/src/trainers/data_adapters/py_dataset_adapter.py:121: UserWarning: Your `PyDataset` class should call `super().__init__(**kwargs)` in its constructor. `**kwargs` can include `workers`, `use_multiprocessing`, `max_queue_size`. Do not pass these arguments to `fit()`, as they will be ignored.\n",
            "  self._warn_if_super_not_called()\n"
          ]
        },
        {
          "output_type": "stream",
          "name": "stdout",
          "text": [
            "\u001b[1m391/391\u001b[0m \u001b[32m━━━━━━━━━━━━━━━━━━━━\u001b[0m\u001b[37m\u001b[0m \u001b[1m705s\u001b[0m 2s/step - accuracy: 0.9864 - loss: 0.0479 - val_accuracy: 0.9829 - val_loss: 0.0784\n",
            "Epoch 2/10\n",
            "\u001b[1m391/391\u001b[0m \u001b[32m━━━━━━━━━━━━━━━━━━━━\u001b[0m\u001b[37m\u001b[0m \u001b[1m708s\u001b[0m 2s/step - accuracy: 0.9904 - loss: 0.0311 - val_accuracy: 0.9910 - val_loss: 0.0366\n",
            "Epoch 3/10\n",
            "\u001b[1m391/391\u001b[0m \u001b[32m━━━━━━━━━━━━━━━━━━━━\u001b[0m\u001b[37m\u001b[0m \u001b[1m711s\u001b[0m 2s/step - accuracy: 0.9905 - loss: 0.0319 - val_accuracy: 0.9404 - val_loss: 0.2392\n",
            "Epoch 4/10\n",
            "\u001b[1m391/391\u001b[0m \u001b[32m━━━━━━━━━━━━━━━━━━━━\u001b[0m\u001b[37m\u001b[0m \u001b[1m729s\u001b[0m 2s/step - accuracy: 0.9919 - loss: 0.0274 - val_accuracy: 0.9604 - val_loss: 0.1536\n",
            "Epoch 5/10\n",
            "\u001b[1m391/391\u001b[0m \u001b[32m━━━━━━━━━━━━━━━━━━━━\u001b[0m\u001b[37m\u001b[0m \u001b[1m744s\u001b[0m 2s/step - accuracy: 0.9928 - loss: 0.0241 - val_accuracy: 0.9914 - val_loss: 0.0334\n",
            "Epoch 6/10\n",
            "\u001b[1m391/391\u001b[0m \u001b[32m━━━━━━━━━━━━━━━━━━━━\u001b[0m\u001b[37m\u001b[0m \u001b[1m756s\u001b[0m 2s/step - accuracy: 0.9929 - loss: 0.0237 - val_accuracy: 0.9922 - val_loss: 0.0340\n",
            "Epoch 7/10\n",
            "\u001b[1m391/391\u001b[0m \u001b[32m━━━━━━━━━━━━━━━━━━━━\u001b[0m\u001b[37m\u001b[0m \u001b[1m728s\u001b[0m 2s/step - accuracy: 0.9935 - loss: 0.0219 - val_accuracy: 0.9914 - val_loss: 0.0365\n",
            "Epoch 8/10\n",
            "\u001b[1m391/391\u001b[0m \u001b[32m━━━━━━━━━━━━━━━━━━━━\u001b[0m\u001b[37m\u001b[0m \u001b[1m738s\u001b[0m 2s/step - accuracy: 0.9937 - loss: 0.0223 - val_accuracy: 0.9797 - val_loss: 0.0889\n",
            "Epoch 9/10\n",
            "\u001b[1m391/391\u001b[0m \u001b[32m━━━━━━━━━━━━━━━━━━━━\u001b[0m\u001b[37m\u001b[0m \u001b[1m742s\u001b[0m 2s/step - accuracy: 0.9950 - loss: 0.0177 - val_accuracy: 0.9898 - val_loss: 0.0424\n",
            "Epoch 10/10\n",
            "\u001b[1m391/391\u001b[0m \u001b[32m━━━━━━━━━━━━━━━━━━━━\u001b[0m\u001b[37m\u001b[0m \u001b[1m743s\u001b[0m 2s/step - accuracy: 0.9944 - loss: 0.0192 - val_accuracy: 0.9943 - val_loss: 0.0255\n",
            "\u001b[1m313/313\u001b[0m \u001b[32m━━━━━━━━━━━━━━━━━━━━\u001b[0m\u001b[37m\u001b[0m \u001b[1m32s\u001b[0m 103ms/step\n",
            "\u001b[1m625/625\u001b[0m \u001b[32m━━━━━━━━━━━━━━━━━━━━\u001b[0m\u001b[37m\u001b[0m \u001b[1m64s\u001b[0m 103ms/step\n",
            "---------------DenseNet----------------\n",
            "\n",
            "Validation accuracy    =  99.43000078201294\n",
            "MNIST Testing accuracy =  99.44000244140625\n",
            "USPS Testing accuracy  =  87.57938146591187 \n",
            "\n",
            "\n",
            "MNIST Confusion Matrix: \n",
            "\n",
            " [[ 979    0    0    0    0    0    0    1    0    0]\n",
            " [   0 1126    1    0    2    0    1    5    0    0]\n",
            " [   1    0 1030    0    0    0    0    1    0    0]\n",
            " [   0    0    1 1005    0    1    0    1    0    2]\n",
            " [   0    0    0    0  981    0    0    0    0    1]\n",
            " [   0    0    0    3    0  888    1    0    0    0]\n",
            " [   5    1    0    0    5    5  941    0    1    0]\n",
            " [   0    1    4    0    0    0    0 1023    0    0]\n",
            " [   1    0    1    0    2    1    0    1  966    2]\n",
            " [   0    0    0    0    4    0    0    0    0 1005]]\n",
            "\n",
            "USPS Confusion Matrix: \n",
            "\n",
            " [[1531    1  136    5   63   15   63    1  151   34]\n",
            " [  83 1150   60    2  578    5   11   99    7    5]\n",
            " [   7    1 1899   23   14    2    0    9   37    7]\n",
            " [   0    1   21 1922    1   11    0    4   39    1]\n",
            " [   2    1    0    0 1964    0    0    9    9   15]\n",
            " [   2    0   17  164    3 1701    0    4   99   10]\n",
            " [  10    0   59    4   85   52 1749    0   36    5]\n",
            " [   5    2   67    2   21    0    0 1890    7    6]\n",
            " [   3    0   12    9   28   23    2    0 1918    5]\n",
            " [   1    0   44   23   42    3    0   30   66 1791]]\n"
          ]
        }
      ]
    },
    {
      "cell_type": "code",
      "source": [],
      "metadata": {
        "id": "0Mvb9Hd0piMr"
      },
      "execution_count": null,
      "outputs": []
    }
  ]
}